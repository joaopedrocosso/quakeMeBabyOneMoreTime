{
 "cells": [
  {
   "cell_type": "markdown",
   "id": "900ab540-60b1-44fb-92ef-322fa0e40355",
   "metadata": {},
   "source": [
    "# Library Import\n",
    "This section imports all the necessary libraries required for data processing, feature extraction, and cloud interaction."
   ]
  },
  {
   "cell_type": "code",
   "execution_count": 150,
   "id": "070105f3-8b56-4bc0-9389-fbe24cf9d3d6",
   "metadata": {},
   "outputs": [],
   "source": [
    "import pandas as pd\n",
    "import numpy as np\n",
    "from sklearn.model_selection import train_test_split\n",
    "from keras.models import Sequential\n",
    "from keras.optimizers import *\n",
    "from keras import layers\n",
    "from keras.callbacks import EarlyStopping, ModelCheckpoint, ReduceLROnPlateau\n",
    "from keras.layers import Dense, Dropout\n",
    "from keras.models import load_model\n",
    "import copy\n",
    "import json\n",
    "from sklearn.metrics import classification_report\n",
    "from sklearn.metrics import accuracy_score, confusion_matrix, precision_score"
   ]
  },
  {
   "cell_type": "markdown",
   "id": "d86a945b-3e7e-4322-8cb6-d05a65bd5db3",
   "metadata": {},
   "source": [
    "# Data Loading and Preprocessing for Neural Network Input"
   ]
  },
  {
   "cell_type": "markdown",
   "id": "c0e8b7f2-b017-4d4c-bfd3-ac492ee46972",
   "metadata": {},
   "source": [
    "## Lunar Data\n",
    "- We removed the index column that was created when saving the dataset\n",
    "- We are ensuring that the fft_values (Fast Fourier Transform) column is identified as complex128\n",
    "- We removed unnecessary columns for the model, columns that do not represent important data or are constant across the entire dataset\n",
    "\n",
    "## Mars Data\n",
    "- We removed the index column that was created when saving the dataset\n",
    "- We are ensuring that the fft_values (Fast Fourier Transform) column is identified as complex128\n",
    "- We removed unnecessary columns for the model, columns that do not represent important data or are constant across the entire dataset\n",
    "- We renamed some columns that represent the same type of data as in the lunar dataset so that we can concatenate both datasets during training"
   ]
  },
  {
   "cell_type": "code",
   "execution_count": 2,
   "id": "59a919b8-6059-47fc-8df6-2275cd74d913",
   "metadata": {},
   "outputs": [
    {
     "data": {
      "text/html": [
       "<div>\n",
       "<style scoped>\n",
       "    .dataframe tbody tr th:only-of-type {\n",
       "        vertical-align: middle;\n",
       "    }\n",
       "\n",
       "    .dataframe tbody tr th {\n",
       "        vertical-align: top;\n",
       "    }\n",
       "\n",
       "    .dataframe thead th {\n",
       "        text-align: right;\n",
       "    }\n",
       "</style>\n",
       "<table border=\"1\" class=\"dataframe\">\n",
       "  <thead>\n",
       "    <tr style=\"text-align: right;\">\n",
       "      <th></th>\n",
       "      <th>time_rel(sec)</th>\n",
       "      <th>velocity(m/s)</th>\n",
       "      <th>label</th>\n",
       "      <th>filename</th>\n",
       "      <th>mean_velocity</th>\n",
       "      <th>std_velocity</th>\n",
       "      <th>max_velocity</th>\n",
       "      <th>min_velocity</th>\n",
       "      <th>total_energy</th>\n",
       "      <th>rms_value</th>\n",
       "      <th>peak_count</th>\n",
       "      <th>valley_count</th>\n",
       "      <th>fft_values</th>\n",
       "      <th>fft_freqs</th>\n",
       "      <th>autocorrelation</th>\n",
       "      <th>acceleration</th>\n",
       "      <th>jerk</th>\n",
       "      <th>cumulative_energy</th>\n",
       "    </tr>\n",
       "  </thead>\n",
       "  <tbody>\n",
       "    <tr>\n",
       "      <th>0</th>\n",
       "      <td>0.000000</td>\n",
       "      <td>-6.153279e-14</td>\n",
       "      <td>0</td>\n",
       "      <td>xa.s12.00.mhz.1970-01-19HR00_evid00002</td>\n",
       "      <td>-8.443134e-13</td>\n",
       "      <td>3.530056e-10</td>\n",
       "      <td>7.874026e-09</td>\n",
       "      <td>-8.185283e-09</td>\n",
       "      <td>7.133071e-14</td>\n",
       "      <td>3.530066e-10</td>\n",
       "      <td>68767</td>\n",
       "      <td>68767</td>\n",
       "      <td>-4.832977e-07-0.000000e+                    00j</td>\n",
       "      <td>0.000000</td>\n",
       "      <td>7.133071e-14</td>\n",
       "      <td>-1.025556e-13</td>\n",
       "      <td>1.872179e-13</td>\n",
       "      <td>0.000000e+00</td>\n",
       "    </tr>\n",
       "    <tr>\n",
       "      <th>1</th>\n",
       "      <td>0.150943</td>\n",
       "      <td>-7.701288e-14</td>\n",
       "      <td>0</td>\n",
       "      <td>xa.s12.00.mhz.1970-01-19HR00_evid00002</td>\n",
       "      <td>-8.443134e-13</td>\n",
       "      <td>3.530056e-10</td>\n",
       "      <td>7.874026e-09</td>\n",
       "      <td>-8.185283e-09</td>\n",
       "      <td>7.133071e-14</td>\n",
       "      <td>3.530066e-10</td>\n",
       "      <td>68767</td>\n",
       "      <td>68767</td>\n",
       "      <td>-2.836708e-07-1.545453e-                    07j</td>\n",
       "      <td>0.000012</td>\n",
       "      <td>5.427493e-14</td>\n",
       "      <td>-7.429632e-14</td>\n",
       "      <td>2.963882e-13</td>\n",
       "      <td>7.333788e-28</td>\n",
       "    </tr>\n",
       "    <tr>\n",
       "      <th>2</th>\n",
       "      <td>0.301887</td>\n",
       "      <td>-8.396187e-14</td>\n",
       "      <td>0</td>\n",
       "      <td>xa.s12.00.mhz.1970-01-19HR00_evid00002</td>\n",
       "      <td>-8.443134e-13</td>\n",
       "      <td>3.530056e-10</td>\n",
       "      <td>7.874026e-09</td>\n",
       "      <td>-8.185283e-09</td>\n",
       "      <td>7.133071e-14</td>\n",
       "      <td>3.530066e-10</td>\n",
       "      <td>68767</td>\n",
       "      <td>68767</td>\n",
       "      <td>8.091533e-09-3.375131e-                    07j</td>\n",
       "      <td>0.000023</td>\n",
       "      <td>1.375445e-14</td>\n",
       "      <td>-1.307994e-14</td>\n",
       "      <td>3.885961e-13</td>\n",
       "      <td>1.713045e-27</td>\n",
       "    </tr>\n",
       "    <tr>\n",
       "      <th>3</th>\n",
       "      <td>0.452830</td>\n",
       "      <td>-8.096155e-14</td>\n",
       "      <td>0</td>\n",
       "      <td>xa.s12.00.mhz.1970-01-19HR00_evid00002</td>\n",
       "      <td>-8.443134e-13</td>\n",
       "      <td>3.530056e-10</td>\n",
       "      <td>7.874026e-09</td>\n",
       "      <td>-8.185283e-09</td>\n",
       "      <td>7.133071e-14</td>\n",
       "      <td>3.530066e-10</td>\n",
       "      <td>68767</td>\n",
       "      <td>68767</td>\n",
       "      <td>3.715808e-07-9.719384e-                    08j</td>\n",
       "      <td>0.000035</td>\n",
       "      <td>-2.642902e-14</td>\n",
       "      <td>4.301571e-14</td>\n",
       "      <td>2.862106e-13</td>\n",
       "      <td>2.739790e-27</td>\n",
       "    </tr>\n",
       "    <tr>\n",
       "      <th>4</th>\n",
       "      <td>0.603774</td>\n",
       "      <td>-7.097599e-14</td>\n",
       "      <td>0</td>\n",
       "      <td>xa.s12.00.mhz.1970-01-19HR00_evid00002</td>\n",
       "      <td>-8.443134e-13</td>\n",
       "      <td>3.530056e-10</td>\n",
       "      <td>7.874026e-09</td>\n",
       "      <td>-8.185283e-09</td>\n",
       "      <td>7.133071e-14</td>\n",
       "      <td>3.530066e-10</td>\n",
       "      <td>68767</td>\n",
       "      <td>68767</td>\n",
       "      <td>1.745241e-07-7.660554e-                    08j</td>\n",
       "      <td>0.000046</td>\n",
       "      <td>-4.420222e-14</td>\n",
       "      <td>7.332325e-14</td>\n",
       "      <td>1.094926e-13</td>\n",
       "      <td>3.614685e-27</td>\n",
       "    </tr>\n",
       "  </tbody>\n",
       "</table>\n",
       "</div>"
      ],
      "text/plain": [
       "   time_rel(sec)  velocity(m/s)  label  \\\n",
       "0       0.000000  -6.153279e-14      0   \n",
       "1       0.150943  -7.701288e-14      0   \n",
       "2       0.301887  -8.396187e-14      0   \n",
       "3       0.452830  -8.096155e-14      0   \n",
       "4       0.603774  -7.097599e-14      0   \n",
       "\n",
       "                                 filename  mean_velocity  std_velocity  \\\n",
       "0  xa.s12.00.mhz.1970-01-19HR00_evid00002  -8.443134e-13  3.530056e-10   \n",
       "1  xa.s12.00.mhz.1970-01-19HR00_evid00002  -8.443134e-13  3.530056e-10   \n",
       "2  xa.s12.00.mhz.1970-01-19HR00_evid00002  -8.443134e-13  3.530056e-10   \n",
       "3  xa.s12.00.mhz.1970-01-19HR00_evid00002  -8.443134e-13  3.530056e-10   \n",
       "4  xa.s12.00.mhz.1970-01-19HR00_evid00002  -8.443134e-13  3.530056e-10   \n",
       "\n",
       "   max_velocity  min_velocity  total_energy     rms_value  peak_count  \\\n",
       "0  7.874026e-09 -8.185283e-09  7.133071e-14  3.530066e-10       68767   \n",
       "1  7.874026e-09 -8.185283e-09  7.133071e-14  3.530066e-10       68767   \n",
       "2  7.874026e-09 -8.185283e-09  7.133071e-14  3.530066e-10       68767   \n",
       "3  7.874026e-09 -8.185283e-09  7.133071e-14  3.530066e-10       68767   \n",
       "4  7.874026e-09 -8.185283e-09  7.133071e-14  3.530066e-10       68767   \n",
       "\n",
       "   valley_count                                      fft_values  fft_freqs  \\\n",
       "0         68767 -4.832977e-07-0.000000e+                    00j   0.000000   \n",
       "1         68767 -2.836708e-07-1.545453e-                    07j   0.000012   \n",
       "2         68767  8.091533e-09-3.375131e-                    07j   0.000023   \n",
       "3         68767  3.715808e-07-9.719384e-                    08j   0.000035   \n",
       "4         68767  1.745241e-07-7.660554e-                    08j   0.000046   \n",
       "\n",
       "   autocorrelation  acceleration          jerk  cumulative_energy  \n",
       "0     7.133071e-14 -1.025556e-13  1.872179e-13       0.000000e+00  \n",
       "1     5.427493e-14 -7.429632e-14  2.963882e-13       7.333788e-28  \n",
       "2     1.375445e-14 -1.307994e-14  3.885961e-13       1.713045e-27  \n",
       "3    -2.642902e-14  4.301571e-14  2.862106e-13       2.739790e-27  \n",
       "4    -4.420222e-14  7.332325e-14  1.094926e-13       3.614685e-27  "
      ]
     },
     "execution_count": 2,
     "metadata": {},
     "output_type": "execute_result"
    }
   ],
   "source": [
    "df = pd.read_csv(\"./data/training_lunar.csv\")\n",
    "df.drop(df.columns[0], axis=1,inplace=True)\n",
    "df['fft_values'] = df['fft_values'].apply(lambda x: np.complex128(x)) \n",
    "df.drop(['time_abs(%Y-%m-%dT%H:%M:%S.%f)','network','station','location','npts','channel','sampling_rate','delta','calib'],axis=1,inplace=True)\n",
    "df.head()"
   ]
  },
  {
   "cell_type": "code",
   "execution_count": 3,
   "id": "7cce862d-c88e-41cd-942b-8275c5a0fac8",
   "metadata": {},
   "outputs": [
    {
     "data": {
      "text/html": [
       "<div>\n",
       "<style scoped>\n",
       "    .dataframe tbody tr th:only-of-type {\n",
       "        vertical-align: middle;\n",
       "    }\n",
       "\n",
       "    .dataframe tbody tr th {\n",
       "        vertical-align: top;\n",
       "    }\n",
       "\n",
       "    .dataframe thead th {\n",
       "        text-align: right;\n",
       "    }\n",
       "</style>\n",
       "<table border=\"1\" class=\"dataframe\">\n",
       "  <thead>\n",
       "    <tr style=\"text-align: right;\">\n",
       "      <th></th>\n",
       "      <th>time_rel(sec)</th>\n",
       "      <th>velocity(m/s)</th>\n",
       "      <th>label</th>\n",
       "      <th>filename</th>\n",
       "      <th>evid</th>\n",
       "      <th>mean_velocity</th>\n",
       "      <th>std_velocity</th>\n",
       "      <th>max_velocity</th>\n",
       "      <th>min_velocity</th>\n",
       "      <th>total_energy</th>\n",
       "      <th>rms_value</th>\n",
       "      <th>peak_count</th>\n",
       "      <th>valley_count</th>\n",
       "      <th>fft_values</th>\n",
       "      <th>fft_freqs</th>\n",
       "      <th>autocorrelation</th>\n",
       "      <th>acceleration</th>\n",
       "      <th>jerk</th>\n",
       "      <th>cumulative_energy</th>\n",
       "    </tr>\n",
       "  </thead>\n",
       "  <tbody>\n",
       "    <tr>\n",
       "      <th>0</th>\n",
       "      <td>0.00</td>\n",
       "      <td>0.000000</td>\n",
       "      <td>0</td>\n",
       "      <td>XB.ELYSE.02.BHV.2022-02-03HR08_evid0005</td>\n",
       "      <td>evid0005</td>\n",
       "      <td>0.506711</td>\n",
       "      <td>141.951968</td>\n",
       "      <td>1824.427368</td>\n",
       "      <td>-2541.654297</td>\n",
       "      <td>1.450844e+09</td>\n",
       "      <td>141.952872</td>\n",
       "      <td>18949</td>\n",
       "      <td>18949</td>\n",
       "      <td>3.648320e+04-0.000000e+                    00j</td>\n",
       "      <td>0.000000</td>\n",
       "      <td>1.450844e+09</td>\n",
       "      <td>0.002564</td>\n",
       "      <td>0.089410</td>\n",
       "      <td>0.000000e+00</td>\n",
       "    </tr>\n",
       "    <tr>\n",
       "      <th>1</th>\n",
       "      <td>0.05</td>\n",
       "      <td>0.000128</td>\n",
       "      <td>0</td>\n",
       "      <td>XB.ELYSE.02.BHV.2022-02-03HR08_evid0005</td>\n",
       "      <td>evid0005</td>\n",
       "      <td>0.506711</td>\n",
       "      <td>141.951968</td>\n",
       "      <td>1824.427368</td>\n",
       "      <td>-2541.654297</td>\n",
       "      <td>1.450844e+09</td>\n",
       "      <td>141.952872</td>\n",
       "      <td>18949</td>\n",
       "      <td>18949</td>\n",
       "      <td>-9.771833e+05-1.100181e+                    06j</td>\n",
       "      <td>0.000278</td>\n",
       "      <td>1.352846e+09</td>\n",
       "      <td>0.007034</td>\n",
       "      <td>-0.150863</td>\n",
       "      <td>4.108762e-10</td>\n",
       "    </tr>\n",
       "    <tr>\n",
       "      <th>2</th>\n",
       "      <td>0.10</td>\n",
       "      <td>0.000703</td>\n",
       "      <td>0</td>\n",
       "      <td>XB.ELYSE.02.BHV.2022-02-03HR08_evid0005</td>\n",
       "      <td>evid0005</td>\n",
       "      <td>0.506711</td>\n",
       "      <td>141.951968</td>\n",
       "      <td>1824.427368</td>\n",
       "      <td>-2541.654297</td>\n",
       "      <td>1.450844e+09</td>\n",
       "      <td>141.952872</td>\n",
       "      <td>18949</td>\n",
       "      <td>18949</td>\n",
       "      <td>-1.674679e+04-5.972604e+                    05j</td>\n",
       "      <td>0.000556</td>\n",
       "      <td>1.234131e+09</td>\n",
       "      <td>-0.012522</td>\n",
       "      <td>-0.539167</td>\n",
       "      <td>1.319276e-08</td>\n",
       "    </tr>\n",
       "    <tr>\n",
       "      <th>3</th>\n",
       "      <td>0.15</td>\n",
       "      <td>-0.001124</td>\n",
       "      <td>0</td>\n",
       "      <td>XB.ELYSE.02.BHV.2022-02-03HR08_evid0005</td>\n",
       "      <td>evid0005</td>\n",
       "      <td>0.506711</td>\n",
       "      <td>141.951968</td>\n",
       "      <td>1824.427368</td>\n",
       "      <td>-2541.654297</td>\n",
       "      <td>1.450844e+09</td>\n",
       "      <td>141.952872</td>\n",
       "      <td>18949</td>\n",
       "      <td>18949</td>\n",
       "      <td>-1.897180e+05-7.708000e+                    05j</td>\n",
       "      <td>0.000833</td>\n",
       "      <td>1.149519e+09</td>\n",
       "      <td>-0.046882</td>\n",
       "      <td>0.211440</td>\n",
       "      <td>5.714996e-08</td>\n",
       "    </tr>\n",
       "    <tr>\n",
       "      <th>4</th>\n",
       "      <td>0.20</td>\n",
       "      <td>-0.003985</td>\n",
       "      <td>0</td>\n",
       "      <td>XB.ELYSE.02.BHV.2022-02-03HR08_evid0005</td>\n",
       "      <td>evid0005</td>\n",
       "      <td>0.506711</td>\n",
       "      <td>141.951968</td>\n",
       "      <td>1824.427368</td>\n",
       "      <td>-2541.654297</td>\n",
       "      <td>1.450844e+09</td>\n",
       "      <td>141.952872</td>\n",
       "      <td>18949</td>\n",
       "      <td>18949</td>\n",
       "      <td>1.740404e+05-7.705140e+                    04j</td>\n",
       "      <td>0.001111</td>\n",
       "      <td>1.023060e+09</td>\n",
       "      <td>0.008622</td>\n",
       "      <td>0.107737</td>\n",
       "      <td>4.856965e-07</td>\n",
       "    </tr>\n",
       "  </tbody>\n",
       "</table>\n",
       "</div>"
      ],
      "text/plain": [
       "   time_rel(sec)  velocity(m/s)  label  \\\n",
       "0           0.00       0.000000      0   \n",
       "1           0.05       0.000128      0   \n",
       "2           0.10       0.000703      0   \n",
       "3           0.15      -0.001124      0   \n",
       "4           0.20      -0.003985      0   \n",
       "\n",
       "                                  filename      evid  mean_velocity  \\\n",
       "0  XB.ELYSE.02.BHV.2022-02-03HR08_evid0005  evid0005       0.506711   \n",
       "1  XB.ELYSE.02.BHV.2022-02-03HR08_evid0005  evid0005       0.506711   \n",
       "2  XB.ELYSE.02.BHV.2022-02-03HR08_evid0005  evid0005       0.506711   \n",
       "3  XB.ELYSE.02.BHV.2022-02-03HR08_evid0005  evid0005       0.506711   \n",
       "4  XB.ELYSE.02.BHV.2022-02-03HR08_evid0005  evid0005       0.506711   \n",
       "\n",
       "   std_velocity  max_velocity  min_velocity  total_energy   rms_value  \\\n",
       "0    141.951968   1824.427368  -2541.654297  1.450844e+09  141.952872   \n",
       "1    141.951968   1824.427368  -2541.654297  1.450844e+09  141.952872   \n",
       "2    141.951968   1824.427368  -2541.654297  1.450844e+09  141.952872   \n",
       "3    141.951968   1824.427368  -2541.654297  1.450844e+09  141.952872   \n",
       "4    141.951968   1824.427368  -2541.654297  1.450844e+09  141.952872   \n",
       "\n",
       "   peak_count  valley_count                                      fft_values  \\\n",
       "0       18949         18949  3.648320e+04-0.000000e+                    00j   \n",
       "1       18949         18949 -9.771833e+05-1.100181e+                    06j   \n",
       "2       18949         18949 -1.674679e+04-5.972604e+                    05j   \n",
       "3       18949         18949 -1.897180e+05-7.708000e+                    05j   \n",
       "4       18949         18949  1.740404e+05-7.705140e+                    04j   \n",
       "\n",
       "   fft_freqs  autocorrelation  acceleration      jerk  cumulative_energy  \n",
       "0   0.000000     1.450844e+09      0.002564  0.089410       0.000000e+00  \n",
       "1   0.000278     1.352846e+09      0.007034 -0.150863       4.108762e-10  \n",
       "2   0.000556     1.234131e+09     -0.012522 -0.539167       1.319276e-08  \n",
       "3   0.000833     1.149519e+09     -0.046882  0.211440       5.714996e-08  \n",
       "4   0.001111     1.023060e+09      0.008622  0.107737       4.856965e-07  "
      ]
     },
     "execution_count": 3,
     "metadata": {},
     "output_type": "execute_result"
    }
   ],
   "source": [
    "df_mars = pd.read_csv(\"./data/training_mars.csv\")\n",
    "df_mars.drop(df_mars.columns[0], axis=1,inplace=True)\n",
    "df_mars['fft_values'] = df_mars['fft_values'].apply(lambda x: np.complex128(x))\n",
    "df_mars.drop(['time(%Y-%m-%dT%H:%M:%S.%f)','network','station','location','npts','channel','sampling_rate','delta','calib'],axis=1,inplace=True)\n",
    "df_mars = df_mars.rename(columns={'velocity(c/s)': 'velocity(m/s)','rel_time(sec)':'time_rel(sec)'}) \n",
    "df_mars.head()"
   ]
  },
  {
   "cell_type": "markdown",
   "id": "ef9495ef-8270-44c0-b880-8199b6a592ea",
   "metadata": {},
   "source": [
    "# Splitting Training and Test Data\n",
    "- We manually cut approximately 80% of the events (CSV/mseed files) from the training folder for model training and 20% of the files for testing and evaluation metrics creation.\n",
    "- The test data folder will not be used directly in the model, as there is no way to ascertain the true start time of the phenomenon, since there is no catalog file for this folder. However, this data will be used in the team's web application for visualizing predictions.\n",
    "- **For the Mars training data, we have only 2 events (CSV/mseed files), so we concatenated 1 event into our training data and used 1 event to evaluate the model during the testing phase.**"
   ]
  },
  {
   "cell_type": "code",
   "execution_count": 5,
   "id": "6a56573b-1043-495a-87ac-783914ada010",
   "metadata": {},
   "outputs": [
    {
     "name": "stdout",
     "output_type": "stream",
     "text": [
      "X_train shape: (33541983, 17)\n",
      "y_train shape: (33541983,)\n",
      "X_test shape: (9158531, 17)\n",
      "y_test shape: (9158531,)\n"
     ]
    }
   ],
   "source": [
    "X_train = df[0:33541983]\n",
    "X_test = df[33541983:]\n",
    "\n",
    "y_train = X_train['label']\n",
    "y_test = X_test['label']\n",
    "X_train = X_train.drop(['label'],axis=1)\n",
    "X_test = X_test.drop(['label'],axis=1)\n",
    "\n",
    "print(\"X_train shape:\", X_train.shape)\n",
    "print(\"y_train shape:\", y_train.shape)\n",
    "print(\"X_test shape:\", X_test.shape)\n",
    "print(\"y_test shape:\", y_test.shape)\n"
   ]
  },
  {
   "cell_type": "code",
   "execution_count": 6,
   "id": "0f588fdf-8f33-473e-892f-fb06c98d3ad8",
   "metadata": {},
   "outputs": [
    {
     "name": "stdout",
     "output_type": "stream",
     "text": [
      "X_train shape: (33613982, 18)\n",
      "y_train shape: (33613982,)\n",
      "X_test shape: (9230532, 18)\n",
      "y_test shape: (9230532,)\n"
     ]
    }
   ],
   "source": [
    "X_train = pd.concat([X_train, df_mars[0:71999].drop(['label'],axis=1)],ignore_index=True)\n",
    "X_test = pd.concat([X_test, df_mars[71999:].drop(['label'],axis=1)],ignore_index=True)\n",
    "y_train = pd.concat([y_train,df_mars[0:71999]['label']],ignore_index=True)\n",
    "y_test = pd.concat([y_test,df_mars[71999:]['label']],ignore_index=True)\n",
    "print(\"X_train shape:\", X_train.shape)\n",
    "print(\"y_train shape:\", y_train.shape)\n",
    "print(\"X_test shape:\", X_test.shape)\n",
    "print(\"y_test shape:\", y_test.shape)"
   ]
  },
  {
   "cell_type": "markdown",
   "id": "00fa867f-671e-4bda-8d34-0bc8dbe3407b",
   "metadata": {},
   "source": [
    "# Neural Network Creation and Training"
   ]
  },
  {
   "cell_type": "code",
   "execution_count": 19,
   "id": "9e8b429b-d75a-431e-a799-1ea9f4e1cc71",
   "metadata": {},
   "outputs": [
    {
     "name": "stderr",
     "output_type": "stream",
     "text": [
      "C:\\Users\\vitor\\AppData\\Local\\Programs\\Python\\Python311\\Lib\\site-packages\\keras\\src\\layers\\core\\dense.py:87: UserWarning: Do not pass an `input_shape`/`input_dim` argument to a layer. When using Sequential models, prefer using an `Input(shape)` object as the first layer in the model instead.\n",
      "  super().__init__(activity_regularizer=activity_regularizer, **kwargs)\n",
      "C:\\Users\\vitor\\AppData\\Local\\Programs\\Python\\Python311\\Lib\\site-packages\\pandas\\core\\dtypes\\astype.py:133: ComplexWarning: Casting complex values to real discards the imaginary part\n",
      "  return arr.astype(dtype, copy=True)\n"
     ]
    },
    {
     "name": "stdout",
     "output_type": "stream",
     "text": [
      "Epoch 1/100\n",
      "\u001b[1m525203/525219\u001b[0m \u001b[32m━━━━━━━━━━━━━━━━━━━\u001b[0m\u001b[37m━\u001b[0m \u001b[1m0s\u001b[0m 1ms/step - accuracy: 0.6610 - loss: 1227.4636"
     ]
    },
    {
     "name": "stderr",
     "output_type": "stream",
     "text": [
      "C:\\Users\\vitor\\AppData\\Local\\Programs\\Python\\Python311\\Lib\\site-packages\\pandas\\core\\dtypes\\astype.py:133: ComplexWarning: Casting complex values to real discards the imaginary part\n",
      "  return arr.astype(dtype, copy=True)\n"
     ]
    },
    {
     "name": "stdout",
     "output_type": "stream",
     "text": [
      "\n",
      "Epoch 1: val_accuracy improved from -inf to 0.64268, saving model to best_model_nasa.keras\n",
      "\u001b[1m525219/525219\u001b[0m \u001b[32m━━━━━━━━━━━━━━━━━━━━\u001b[0m\u001b[37m\u001b[0m \u001b[1m661s\u001b[0m 1ms/step - accuracy: 0.6610 - loss: 1227.4442 - val_accuracy: 0.6427 - val_loss: 755243.2500 - learning_rate: 1.0000e-04\n",
      "Epoch 2/100\n",
      "\u001b[1m525211/525219\u001b[0m \u001b[32m━━━━━━━━━━━━━━━━━━━\u001b[0m\u001b[37m━\u001b[0m \u001b[1m0s\u001b[0m 1ms/step - accuracy: 0.6618 - loss: 324.0129\n",
      "Epoch 2: val_accuracy did not improve from 0.64268\n",
      "\u001b[1m525219/525219\u001b[0m \u001b[32m━━━━━━━━━━━━━━━━━━━━\u001b[0m\u001b[37m\u001b[0m \u001b[1m689s\u001b[0m 1ms/step - accuracy: 0.6618 - loss: 324.0122 - val_accuracy: 0.5855 - val_loss: 384735.0625 - learning_rate: 1.0000e-04\n",
      "Epoch 3/100\n",
      "\u001b[1m525185/525219\u001b[0m \u001b[32m━━━━━━━━━━━━━━━━━━━\u001b[0m\u001b[37m━\u001b[0m \u001b[1m0s\u001b[0m 1ms/step - accuracy: 0.6646 - loss: 163.1539\n",
      "Epoch 3: val_accuracy did not improve from 0.64268\n",
      "\u001b[1m525219/525219\u001b[0m \u001b[32m━━━━━━━━━━━━━━━━━━━━\u001b[0m\u001b[37m\u001b[0m \u001b[1m690s\u001b[0m 1ms/step - accuracy: 0.6646 - loss: 163.1522 - val_accuracy: 0.5470 - val_loss: 294765.0000 - learning_rate: 1.0000e-04\n",
      "Epoch 4/100\n",
      "\u001b[1m525192/525219\u001b[0m \u001b[32m━━━━━━━━━━━━━━━━━━━\u001b[0m\u001b[37m━\u001b[0m \u001b[1m0s\u001b[0m 1ms/step - accuracy: 0.6744 - loss: 75.0994\n",
      "Epoch 4: val_accuracy did not improve from 0.64268\n",
      "\u001b[1m525219/525219\u001b[0m \u001b[32m━━━━━━━━━━━━━━━━━━━━\u001b[0m\u001b[37m\u001b[0m \u001b[1m675s\u001b[0m 1ms/step - accuracy: 0.6744 - loss: 75.0984 - val_accuracy: 0.5805 - val_loss: 102403.2500 - learning_rate: 1.0000e-04\n",
      "Epoch 5/100\n",
      "\u001b[1m525214/525219\u001b[0m \u001b[32m━━━━━━━━━━━━━━━━━━━\u001b[0m\u001b[37m━\u001b[0m \u001b[1m0s\u001b[0m 1ms/step - accuracy: 0.7028 - loss: 21.4988\n",
      "Epoch 5: val_accuracy improved from 0.64268 to 0.76367, saving model to best_model_nasa.keras\n",
      "\u001b[1m525219/525219\u001b[0m \u001b[32m━━━━━━━━━━━━━━━━━━━━\u001b[0m\u001b[37m\u001b[0m \u001b[1m724s\u001b[0m 1ms/step - accuracy: 0.7028 - loss: 21.4987 - val_accuracy: 0.7637 - val_loss: 3573.9907 - learning_rate: 1.0000e-04\n",
      "Epoch 6/100\n",
      "\u001b[1m525177/525219\u001b[0m \u001b[32m━━━━━━━━━━━━━━━━━━━\u001b[0m\u001b[37m━\u001b[0m \u001b[1m0s\u001b[0m 1ms/step - accuracy: 0.7378 - loss: 0.5263\n",
      "Epoch 6: val_accuracy improved from 0.76367 to 0.76516, saving model to best_model_nasa.keras\n",
      "\u001b[1m525219/525219\u001b[0m \u001b[32m━━━━━━━━━━━━━━━━━━━━\u001b[0m\u001b[37m\u001b[0m \u001b[1m682s\u001b[0m 1ms/step - accuracy: 0.7378 - loss: 0.5263 - val_accuracy: 0.7652 - val_loss: 3880.8645 - learning_rate: 1.0000e-04\n",
      "Epoch 7/100\n",
      "\u001b[1m525181/525219\u001b[0m \u001b[32m━━━━━━━━━━━━━━━━━━━\u001b[0m\u001b[37m━\u001b[0m \u001b[1m0s\u001b[0m 1ms/step - accuracy: 0.7396 - loss: 0.5089\n",
      "Epoch 7: val_accuracy improved from 0.76516 to 0.76566, saving model to best_model_nasa.keras\n",
      "\u001b[1m525219/525219\u001b[0m \u001b[32m━━━━━━━━━━━━━━━━━━━━\u001b[0m\u001b[37m\u001b[0m \u001b[1m672s\u001b[0m 1ms/step - accuracy: 0.7396 - loss: 0.5089 - val_accuracy: 0.7657 - val_loss: 2619.0242 - learning_rate: 1.0000e-04\n",
      "Epoch 8/100\n",
      "\u001b[1m525172/525219\u001b[0m \u001b[32m━━━━━━━━━━━━━━━━━━━\u001b[0m\u001b[37m━\u001b[0m \u001b[1m0s\u001b[0m 1ms/step - accuracy: 0.7394 - loss: 0.5113\n",
      "Epoch 8: val_accuracy did not improve from 0.76566\n",
      "\u001b[1m525219/525219\u001b[0m \u001b[32m━━━━━━━━━━━━━━━━━━━━\u001b[0m\u001b[37m\u001b[0m \u001b[1m676s\u001b[0m 1ms/step - accuracy: 0.7394 - loss: 0.5113 - val_accuracy: 0.7593 - val_loss: 2028.5558 - learning_rate: 1.0000e-04\n",
      "Epoch 9/100\n",
      "\u001b[1m525189/525219\u001b[0m \u001b[32m━━━━━━━━━━━━━━━━━━━\u001b[0m\u001b[37m━\u001b[0m \u001b[1m0s\u001b[0m 1ms/step - accuracy: 0.7396 - loss: 0.5079\n",
      "Epoch 9: val_accuracy did not improve from 0.76566\n",
      "\u001b[1m525219/525219\u001b[0m \u001b[32m━━━━━━━━━━━━━━━━━━━━\u001b[0m\u001b[37m\u001b[0m \u001b[1m675s\u001b[0m 1ms/step - accuracy: 0.7396 - loss: 0.5079 - val_accuracy: 0.7632 - val_loss: 904.8619 - learning_rate: 1.0000e-04\n",
      "Epoch 10/100\n",
      "\u001b[1m525212/525219\u001b[0m \u001b[32m━━━━━━━━━━━━━━━━━━━\u001b[0m\u001b[37m━\u001b[0m \u001b[1m0s\u001b[0m 1ms/step - accuracy: 0.7394 - loss: 0.5075\n",
      "Epoch 10: val_accuracy did not improve from 0.76566\n",
      "\u001b[1m525219/525219\u001b[0m \u001b[32m━━━━━━━━━━━━━━━━━━━━\u001b[0m\u001b[37m\u001b[0m \u001b[1m728s\u001b[0m 1ms/step - accuracy: 0.7394 - loss: 0.5075 - val_accuracy: 0.7618 - val_loss: 769.1367 - learning_rate: 1.0000e-04\n",
      "Epoch 11/100\n",
      "\u001b[1m525189/525219\u001b[0m \u001b[32m━━━━━━━━━━━━━━━━━━━\u001b[0m\u001b[37m━\u001b[0m \u001b[1m0s\u001b[0m 1ms/step - accuracy: 0.7381 - loss: 0.5096\n",
      "Epoch 11: val_accuracy did not improve from 0.76566\n",
      "\u001b[1m525219/525219\u001b[0m \u001b[32m━━━━━━━━━━━━━━━━━━━━\u001b[0m\u001b[37m\u001b[0m \u001b[1m734s\u001b[0m 1ms/step - accuracy: 0.7381 - loss: 0.5096 - val_accuracy: 0.7578 - val_loss: 500.2362 - learning_rate: 1.0000e-04\n",
      "Epoch 12/100\n",
      "\u001b[1m525188/525219\u001b[0m \u001b[32m━━━━━━━━━━━━━━━━━━━\u001b[0m\u001b[37m━\u001b[0m \u001b[1m0s\u001b[0m 1ms/step - accuracy: 0.7377 - loss: 0.5082\n",
      "Epoch 12: val_accuracy did not improve from 0.76566\n",
      "\u001b[1m525219/525219\u001b[0m \u001b[32m━━━━━━━━━━━━━━━━━━━━\u001b[0m\u001b[37m\u001b[0m \u001b[1m740s\u001b[0m 1ms/step - accuracy: 0.7377 - loss: 0.5082 - val_accuracy: 0.7614 - val_loss: 382.2577 - learning_rate: 1.0000e-04\n"
     ]
    },
    {
     "name": "stderr",
     "output_type": "stream",
     "text": [
      "C:\\Users\\vitor\\AppData\\Local\\Programs\\Python\\Python311\\Lib\\site-packages\\pandas\\core\\dtypes\\astype.py:133: ComplexWarning: Casting complex values to real discards the imaginary part\n",
      "  return arr.astype(dtype, copy=True)\n"
     ]
    },
    {
     "name": "stdout",
     "output_type": "stream",
     "text": [
      "\u001b[1m288455/288455\u001b[0m \u001b[32m━━━━━━━━━━━━━━━━━━━━\u001b[0m\u001b[37m\u001b[0m \u001b[1m282s\u001b[0m 978us/step - accuracy: 0.7511 - loss: 12.1303\n",
      "Test Accuracy: 0.7657\n"
     ]
    }
   ],
   "source": [
    "model = Sequential([\n",
    "    Dense(128, input_dim=X_train.shape[1], activation='relu'),\n",
    "    Dense(1, activation='sigmoid')\n",
    "])\n",
    "\n",
    "model.compile(optimizer=AdamW(learning_rate=1e-4), loss='binary_crossentropy', metrics=['accuracy'])\n",
    "\n",
    "early_stop = EarlyStopping(monitor='val_accuracy', patience=5, restore_best_weights=True)\n",
    "model_checkpoint = ModelCheckpoint('best_model_nasa.keras', monitor='val_accuracy', save_best_only=True, verbose=1)\n",
    "lr_scheduler = ReduceLROnPlateau(monitor='val_loss', factor=0.2, patience=5,restore_best_weights=True,verbose=1)\n",
    "\n",
    "model.fit(X_train, y_train, epochs=100, batch_size=64, \n",
    "          validation_data=(X_test, y_test), callbacks=[early_stop,model_checkpoint,lr_scheduler])\n",
    "\n",
    "loss, accuracy = model.evaluate(X_test, y_test)\n",
    "print(f\"Test Accuracy: {accuracy:.4f}\")"
   ]
  },
  {
   "cell_type": "markdown",
   "id": "8776354b-1fd5-4fb0-8f94-ad77b916e3f0",
   "metadata": {},
   "source": [
    "# Generating model metrics"
   ]
  },
  {
   "cell_type": "code",
   "execution_count": 9,
   "id": "cd57a947-9328-4e0d-8c5e-bcce1185f843",
   "metadata": {},
   "outputs": [
    {
     "data": {
      "text/html": [
       "<pre style=\"white-space:pre;overflow-x:auto;line-height:normal;font-family:Menlo,'DejaVu Sans Mono',consolas,'Courier New',monospace\"><span style=\"font-weight: bold\">Model: \"sequential_1\"</span>\n",
       "</pre>\n"
      ],
      "text/plain": [
       "\u001b[1mModel: \"sequential_1\"\u001b[0m\n"
      ]
     },
     "metadata": {},
     "output_type": "display_data"
    },
    {
     "data": {
      "text/html": [
       "<pre style=\"white-space:pre;overflow-x:auto;line-height:normal;font-family:Menlo,'DejaVu Sans Mono',consolas,'Courier New',monospace\">┏━━━━━━━━━━━━━━━━━━━━━━━━━━━━━━━━━━━━━━┳━━━━━━━━━━━━━━━━━━━━━━━━━━━━━┳━━━━━━━━━━━━━━━━━┓\n",
       "┃<span style=\"font-weight: bold\"> Layer (type)                         </span>┃<span style=\"font-weight: bold\"> Output Shape                </span>┃<span style=\"font-weight: bold\">         Param # </span>┃\n",
       "┡━━━━━━━━━━━━━━━━━━━━━━━━━━━━━━━━━━━━━━╇━━━━━━━━━━━━━━━━━━━━━━━━━━━━━╇━━━━━━━━━━━━━━━━━┩\n",
       "│ dense_2 (<span style=\"color: #0087ff; text-decoration-color: #0087ff\">Dense</span>)                      │ (<span style=\"color: #00d7ff; text-decoration-color: #00d7ff\">None</span>, <span style=\"color: #00af00; text-decoration-color: #00af00\">128</span>)                 │           <span style=\"color: #00af00; text-decoration-color: #00af00\">2,176</span> │\n",
       "├──────────────────────────────────────┼─────────────────────────────┼─────────────────┤\n",
       "│ dense_3 (<span style=\"color: #0087ff; text-decoration-color: #0087ff\">Dense</span>)                      │ (<span style=\"color: #00d7ff; text-decoration-color: #00d7ff\">None</span>, <span style=\"color: #00af00; text-decoration-color: #00af00\">1</span>)                   │             <span style=\"color: #00af00; text-decoration-color: #00af00\">129</span> │\n",
       "└──────────────────────────────────────┴─────────────────────────────┴─────────────────┘\n",
       "</pre>\n"
      ],
      "text/plain": [
       "┏━━━━━━━━━━━━━━━━━━━━━━━━━━━━━━━━━━━━━━┳━━━━━━━━━━━━━━━━━━━━━━━━━━━━━┳━━━━━━━━━━━━━━━━━┓\n",
       "┃\u001b[1m \u001b[0m\u001b[1mLayer (type)                        \u001b[0m\u001b[1m \u001b[0m┃\u001b[1m \u001b[0m\u001b[1mOutput Shape               \u001b[0m\u001b[1m \u001b[0m┃\u001b[1m \u001b[0m\u001b[1m        Param #\u001b[0m\u001b[1m \u001b[0m┃\n",
       "┡━━━━━━━━━━━━━━━━━━━━━━━━━━━━━━━━━━━━━━╇━━━━━━━━━━━━━━━━━━━━━━━━━━━━━╇━━━━━━━━━━━━━━━━━┩\n",
       "│ dense_2 (\u001b[38;5;33mDense\u001b[0m)                      │ (\u001b[38;5;45mNone\u001b[0m, \u001b[38;5;34m128\u001b[0m)                 │           \u001b[38;5;34m2,176\u001b[0m │\n",
       "├──────────────────────────────────────┼─────────────────────────────┼─────────────────┤\n",
       "│ dense_3 (\u001b[38;5;33mDense\u001b[0m)                      │ (\u001b[38;5;45mNone\u001b[0m, \u001b[38;5;34m1\u001b[0m)                   │             \u001b[38;5;34m129\u001b[0m │\n",
       "└──────────────────────────────────────┴─────────────────────────────┴─────────────────┘\n"
      ]
     },
     "metadata": {},
     "output_type": "display_data"
    },
    {
     "data": {
      "text/html": [
       "<pre style=\"white-space:pre;overflow-x:auto;line-height:normal;font-family:Menlo,'DejaVu Sans Mono',consolas,'Courier New',monospace\"><span style=\"font-weight: bold\"> Total params: </span><span style=\"color: #00af00; text-decoration-color: #00af00\">6,917</span> (27.02 KB)\n",
       "</pre>\n"
      ],
      "text/plain": [
       "\u001b[1m Total params: \u001b[0m\u001b[38;5;34m6,917\u001b[0m (27.02 KB)\n"
      ]
     },
     "metadata": {},
     "output_type": "display_data"
    },
    {
     "data": {
      "text/html": [
       "<pre style=\"white-space:pre;overflow-x:auto;line-height:normal;font-family:Menlo,'DejaVu Sans Mono',consolas,'Courier New',monospace\"><span style=\"font-weight: bold\"> Trainable params: </span><span style=\"color: #00af00; text-decoration-color: #00af00\">2,305</span> (9.00 KB)\n",
       "</pre>\n"
      ],
      "text/plain": [
       "\u001b[1m Trainable params: \u001b[0m\u001b[38;5;34m2,305\u001b[0m (9.00 KB)\n"
      ]
     },
     "metadata": {},
     "output_type": "display_data"
    },
    {
     "data": {
      "text/html": [
       "<pre style=\"white-space:pre;overflow-x:auto;line-height:normal;font-family:Menlo,'DejaVu Sans Mono',consolas,'Courier New',monospace\"><span style=\"font-weight: bold\"> Non-trainable params: </span><span style=\"color: #00af00; text-decoration-color: #00af00\">0</span> (0.00 B)\n",
       "</pre>\n"
      ],
      "text/plain": [
       "\u001b[1m Non-trainable params: \u001b[0m\u001b[38;5;34m0\u001b[0m (0.00 B)\n"
      ]
     },
     "metadata": {},
     "output_type": "display_data"
    },
    {
     "data": {
      "text/html": [
       "<pre style=\"white-space:pre;overflow-x:auto;line-height:normal;font-family:Menlo,'DejaVu Sans Mono',consolas,'Courier New',monospace\"><span style=\"font-weight: bold\"> Optimizer params: </span><span style=\"color: #00af00; text-decoration-color: #00af00\">4,612</span> (18.02 KB)\n",
       "</pre>\n"
      ],
      "text/plain": [
       "\u001b[1m Optimizer params: \u001b[0m\u001b[38;5;34m4,612\u001b[0m (18.02 KB)\n"
      ]
     },
     "metadata": {},
     "output_type": "display_data"
    }
   ],
   "source": [
    "model = load_model('./model/best_model_nasa.keras')\n",
    "model.summary()"
   ]
  },
  {
   "cell_type": "code",
   "execution_count": 134,
   "id": "d28a7f32-1747-4edf-834b-7bac28913a3f",
   "metadata": {},
   "outputs": [],
   "source": [
    "def mean_squared_error(y_true, y_pred):\n",
    "    y_true = np.array(y_true)\n",
    "    y_pred = np.array(y_pred)\n",
    "    mse = np.mean((y_true - y_pred) ** 2)\n",
    "    \n",
    "    return mse\n",
    "    \n",
    "def root_mean_squared_error(y_true, y_pred):\n",
    "    y_true = np.array(y_true)\n",
    "    y_pred = np.array(y_pred)\n",
    "    \n",
    "    rmse = np.sqrt(np.mean((y_true - y_pred) ** 2))\n",
    "    \n",
    "    return rmse"
   ]
  },
  {
   "cell_type": "markdown",
   "id": "3d87606f-5e0f-463f-a201-eb82b0a48617",
   "metadata": {},
   "source": [
    "## Test Dataset Evaluation"
   ]
  },
  {
   "cell_type": "code",
   "execution_count": 14,
   "id": "34a3e912-d682-403f-88fe-ea83af7bdd8d",
   "metadata": {},
   "outputs": [
    {
     "name": "stderr",
     "output_type": "stream",
     "text": [
      "C:\\Users\\vitor\\AppData\\Local\\Programs\\Python\\Python311\\Lib\\site-packages\\pandas\\core\\dtypes\\astype.py:133: ComplexWarning: Casting complex values to real discards the imaginary part\n",
      "  return arr.astype(dtype, copy=True)\n"
     ]
    },
    {
     "name": "stdout",
     "output_type": "stream",
     "text": [
      "288455/288455 - 301s - 1ms/step\n"
     ]
    }
   ],
   "source": [
    "temp = copy.deepcopy(X_test)\n",
    "temp.drop(['filename','evid'],axis=1,inplace=True)\n",
    "y_pred=model.predict(temp,verbose=2)\n",
    "X_test['y_pred'] = (y_pred > 0.5).astype(int)  # Convert to 0 or 1"
   ]
  },
  {
   "cell_type": "markdown",
   "id": "42499d39-1796-4e5b-b8d8-87000e6634ac",
   "metadata": {},
   "source": [
    "### Creating aditional features for the output catalog:\n",
    "- identified_arrival_time_rel(sec): time_rel(s) in the first row considered an earthquake\n",
    "- detection_duration(sec): time_rel(s) in the last row of the entire subset of a record\n",
    "- selection_duration(sec): detection_duration(sec) - identified_arrival_time_rel(sec)\n",
    "- features_at_detection: the features in the first row considered an earthquake\n",
    "- file_original_size(kb): pandas.memory_usage() method on the complete subset of a detection\n",
    "- file_selection_size(kb): pandas.memory_usage() method on the subset trimmed from the detection index to the end\n",
    "- original_broadcast: file_original_size(kb) / transmission rate\n",
    "- selection_broadcast: file_selection_size(kb) / transmission rate\n",
    "\n",
    "- Data transmission rates:\n",
    "\n",
    "    - Apollo 12: 51.2 kbps\n",
    "    - Apollo 15: 85.6 kbps\n",
    "    - Apollo 16: 85.6 kbps\n",
    "    - InSight: 256 kbps"
   ]
  },
  {
   "cell_type": "code",
   "execution_count": 135,
   "id": "1774a2bc-7f61-4748-8ec2-8d0ede26403a",
   "metadata": {},
   "outputs": [
    {
     "name": "stderr",
     "output_type": "stream",
     "text": [
      "C:\\Users\\vitor\\AppData\\Local\\Temp\\ipykernel_26188\\3778317596.py:2: DeprecationWarning: DataFrameGroupBy.apply operated on the grouping columns. This behavior is deprecated, and in a future version of pandas the grouping columns will be excluded from the operation. Either pass `include_groups=False` to exclude the groupings or explicitly select the grouping columns after groupby to silence this warning.\n",
      "  memory_usage_per_group = X_test[X_test['y_pred'] == 1].groupby('filename').apply(lambda group: group.memory_usage(deep=True).sum())\n",
      "C:\\Users\\vitor\\AppData\\Local\\Temp\\ipykernel_26188\\3778317596.py:23: DeprecationWarning: DataFrameGroupBy.apply operated on the grouping columns. This behavior is deprecated, and in a future version of pandas the grouping columns will be excluded from the operation. Either pass `include_groups=False` to exclude the groupings or explicitly select the grouping columns after groupby to silence this warning.\n",
      "  memory_usage_per_group = X_test.groupby('filename').apply(lambda group: group.memory_usage(deep=True).sum())\n"
     ]
    }
   ],
   "source": [
    "result = X_test[X_test['y_pred'] == 1].groupby('filename', as_index=False).nth(0).reset_index()\n",
    "memory_usage_per_group = X_test[X_test['y_pred'] == 1].groupby('filename').apply(lambda group: group.memory_usage(deep=True).sum())\n",
    "result['file_selection_size(kb)'] = result['filename'].map(memory_usage_per_group)\n",
    "\n",
    "features = result.drop(['file_selection_size(kb)'],axis=1)\n",
    "\n",
    "json_list = []\n",
    "for index, row in features.iterrows():\n",
    "    row_dict = row.to_dict()\n",
    "    \n",
    "    # Convert complex numbers to strings\n",
    "    for key, value in row_dict.items():\n",
    "        if isinstance(value, complex):\n",
    "            row_dict[key] = str(value)\n",
    "    \n",
    "    json_list.append(json.dumps(row_dict))\n",
    "    \n",
    "result = result[['filename', 'time_rel(sec)','velocity(m/s)','index','file_selection_size(kb)']].rename(columns={\"index\":\"index_predict\",\"time_rel(sec)\":\"identified_arrival_time_rel(sec)\"})\n",
    "\n",
    "result2 = X_test.groupby('filename', as_index=False).tail(1).reset_index()[['filename','index', 'time_rel(sec)']].rename(\n",
    "    columns={\"index\": \"index_tail\", \"time_rel(sec)\": \"detection_duration(sec)\"}\n",
    ")\n",
    "memory_usage_per_group = X_test.groupby('filename').apply(lambda group: group.memory_usage(deep=True).sum())\n",
    "result2['file_original_size(kb)'] = result2['filename'].map(memory_usage_per_group)"
   ]
  },
  {
   "cell_type": "code",
   "execution_count": 136,
   "id": "dd398d9c-73fe-4b84-a53a-668419aa7286",
   "metadata": {},
   "outputs": [],
   "source": [
    "result3 = pd.concat([result, result2.drop(['filename'],axis=1)],axis=1)\n",
    "result3['selection_duration'] = result3['detection_duration(sec)'] - result3['identified_arrival_time_rel(sec)']\n",
    "result3['features']=json_list\n",
    "conditions = [\n",
    "    result3['filename'].str.contains('s12'),\n",
    "    result3['filename'].str.contains('s15'),\n",
    "    result3['filename'].str.contains('s16')\n",
    "]\n",
    "values = [51.2, 85.6, 85.6]\n",
    "result3['transmission_speed'] = np.select(conditions, values, default=256)\n",
    "result3['original_broadcast'] = result3['file_original_size(kb)'] / result3['transmission_speed']\n",
    "result3['selection_broadcast'] = result3['file_selection_size(kb)'] / result3['transmission_speed']\n",
    "result3.drop(['index_predict','index_tail','transmission_speed'],inplace=True,axis=1)\n"
   ]
  },
  {
   "cell_type": "code",
   "execution_count": 142,
   "id": "3ff08483-e897-4cea-8740-5a35d5aad565",
   "metadata": {},
   "outputs": [
    {
     "name": "stdout",
     "output_type": "stream",
     "text": [
      "(17, 5)\n",
      "Root Mean Squared Error: 22992.683862574024\n",
      "Mean Squared Error: 528663511.204272\n"
     ]
    }
   ],
   "source": [
    "result3 = result3[result3['filename'] != 'XB.ELYSE.02.BHV.2022-02-03HR08_evid0005']\n",
    "time_pred_test_dataset = result3['identified_arrival_time_rel(sec)'].to_list()\n",
    "catalog  = pd.read_csv('./data/lunar/training/catalogs/apollo12_catalog_GradeA_final.csv')\n",
    "catalog2  = pd.read_csv('./data/mars/training/catalogs/Mars_InSight_training_catalog_final.csv').iloc[[1]]\n",
    "catalog = catalog[catalog['filename'].isin(result3['filename'])]\n",
    "catalog = pd.concat([catalog,catalog2],axis=0)\n",
    "print(catalog.shape)\n",
    "\n",
    "time_true = catalog['time_rel(sec)'].to_list()\n",
    "rmse_result = root_mean_squared_error(time_true, time_pred_test_dataset)\n",
    "print(f\"Root Mean Squared Error: {rmse_result}\")\n",
    "mse_result = mean_squared_error(time_true, time_pred_test_dataset)\n",
    "print(f\"Mean Squared Error: {mse_result}\")"
   ]
  },
  {
   "cell_type": "code",
   "execution_count": 148,
   "id": "36045f0b-26b7-4b05-a63a-89f8995e85bb",
   "metadata": {},
   "outputs": [
    {
     "name": "stdout",
     "output_type": "stream",
     "text": [
      "accuracy 0.7656617191728494\n",
      "              precision    recall  f1-score   support\n",
      "\n",
      "           0       0.75      0.77      0.76   4486256\n",
      "           1       0.78      0.76      0.77   4744276\n",
      "\n",
      "    accuracy                           0.77   9230532\n",
      "   macro avg       0.77      0.77      0.77   9230532\n",
      "weighted avg       0.77      0.77      0.77   9230532\n",
      "\n"
     ]
    }
   ],
   "source": [
    "print('accuracy %s' % accuracy_score(y_test,X_test['y_pred']))\n",
    "print(classification_report(y_test, X_test['y_pred']))"
   ]
  },
  {
   "cell_type": "markdown",
   "id": "8a467e3e-7522-473f-a76d-88853d372118",
   "metadata": {},
   "source": [
    "## Train Dataset Evaluation"
   ]
  },
  {
   "cell_type": "code",
   "execution_count": 60,
   "id": "2d3509ff-b237-4217-b892-680c6edfad3d",
   "metadata": {},
   "outputs": [
    {
     "name": "stderr",
     "output_type": "stream",
     "text": [
      "C:\\Users\\vitor\\AppData\\Local\\Programs\\Python\\Python311\\Lib\\site-packages\\pandas\\core\\dtypes\\astype.py:133: ComplexWarning: Casting complex values to real discards the imaginary part\n",
      "  return arr.astype(dtype, copy=True)\n"
     ]
    },
    {
     "name": "stdout",
     "output_type": "stream",
     "text": [
      "1050437/1050437 - 963s - 917us/step\n"
     ]
    }
   ],
   "source": [
    "temp = copy.deepcopy(X_train)\n",
    "temp.drop(['filename','evid'],axis=1,inplace=True)\n",
    "y_pred=model.predict(temp,verbose=2)\n",
    "X_train['y_pred'] = (y_pred > 0.5).astype(int)  # Convert to 0 or 1"
   ]
  },
  {
   "cell_type": "markdown",
   "id": "f3cff371-772d-4fb2-a859-9b4852213598",
   "metadata": {},
   "source": [
    "### Creating aditional features for the output catalog:\n",
    "- identified_arrival_time_rel(sec): time_rel(s) in the first row considered an earthquake\n",
    "- detection_duration(sec): time_rel(s) in the last row of the entire subset of a record\n",
    "- selection_duration(sec): detection_duration(sec) - identified_arrival_time_rel(sec)\n",
    "- features_at_detection: the features in the first row considered an earthquake\n",
    "- file_original_size(kb): pandas.memory_usage() method on the complete subset of a detection\n",
    "- file_selection_size(kb): pandas.memory_usage() method on the subset trimmed from the detection index to the end\n",
    "- original_broadcast: file_original_size(kb) / transmission rate\n",
    "- selection_broadcast: file_selection_size(kb) / transmission rate\n",
    "\n",
    "- Data transmission rates:\n",
    "\n",
    "    - Apollo 12: 51.2 kbps\n",
    "    - Apollo 15: 85.6 kbps\n",
    "    - Apollo 16: 85.6 kbps\n",
    "    - InSight: 256 kbps"
   ]
  },
  {
   "cell_type": "code",
   "execution_count": 143,
   "id": "6aa50c28-3db8-4f80-a67d-84fbec1e8ba0",
   "metadata": {},
   "outputs": [
    {
     "name": "stderr",
     "output_type": "stream",
     "text": [
      "C:\\Users\\vitor\\AppData\\Local\\Temp\\ipykernel_26188\\1265579920.py:2: DeprecationWarning: DataFrameGroupBy.apply operated on the grouping columns. This behavior is deprecated, and in a future version of pandas the grouping columns will be excluded from the operation. Either pass `include_groups=False` to exclude the groupings or explicitly select the grouping columns after groupby to silence this warning.\n",
      "  memory_usage_per_group = X_train[X_train['y_pred'] == 1].groupby('filename').apply(lambda group: group.memory_usage(deep=True).sum())\n",
      "C:\\Users\\vitor\\AppData\\Local\\Temp\\ipykernel_26188\\1265579920.py:23: DeprecationWarning: DataFrameGroupBy.apply operated on the grouping columns. This behavior is deprecated, and in a future version of pandas the grouping columns will be excluded from the operation. Either pass `include_groups=False` to exclude the groupings or explicitly select the grouping columns after groupby to silence this warning.\n",
      "  memory_usage_per_group = X_train.groupby('filename').apply(lambda group: group.memory_usage(deep=True).sum())\n"
     ]
    }
   ],
   "source": [
    "result = X_train[X_train['y_pred'] == 1].groupby('filename', as_index=False).nth(0).reset_index()\n",
    "memory_usage_per_group = X_train[X_train['y_pred'] == 1].groupby('filename').apply(lambda group: group.memory_usage(deep=True).sum())\n",
    "result['file_selection_size(kb)'] = result['filename'].map(memory_usage_per_group)\n",
    "\n",
    "features = result.drop(['file_selection_size(kb)'],axis=1)\n",
    "\n",
    "json_list = []\n",
    "for index, row in features.iterrows():\n",
    "    row_dict = row.to_dict()\n",
    "    \n",
    "    # Convert complex numbers to strings\n",
    "    for key, value in row_dict.items():\n",
    "        if isinstance(value, complex):\n",
    "            row_dict[key] = str(value)\n",
    "    \n",
    "    json_list.append(json.dumps(row_dict))\n",
    "    \n",
    "result = result[['filename', 'time_rel(sec)','velocity(m/s)','index','file_selection_size(kb)']].rename(columns={\"index\":\"index_predict\",\"time_rel(sec)\":\"identified_arrival_time_rel(sec)\"})\n",
    "\n",
    "result2 = X_train.groupby('filename', as_index=False).tail(1).reset_index()[['filename','index', 'time_rel(sec)']].rename(\n",
    "    columns={\"index\": \"index_tail\", \"time_rel(sec)\": \"detection_duration(sec)\"}\n",
    ")\n",
    "memory_usage_per_group = X_train.groupby('filename').apply(lambda group: group.memory_usage(deep=True).sum())\n",
    "result2['file_original_size(kb)'] = result2['filename'].map(memory_usage_per_group)"
   ]
  },
  {
   "cell_type": "code",
   "execution_count": 144,
   "id": "d54dd6a4-2a5f-477c-9f4b-61caa1457b2c",
   "metadata": {},
   "outputs": [],
   "source": [
    "result3 = pd.concat([result, result2.drop(['filename'],axis=1)],axis=1)\n",
    "result3['selection_duration'] = result3['detection_duration(sec)'] - result3['identified_arrival_time_rel(sec)']\n",
    "result3['features']=json_list\n",
    "conditions = [\n",
    "    result3['filename'].str.contains('s12'),\n",
    "    result3['filename'].str.contains('s15'),\n",
    "    result3['filename'].str.contains('s16')\n",
    "]\n",
    "values = [51.2, 85.6, 85.6]\n",
    "result3['transmission_speed'] = np.select(conditions, values, default=256)\n",
    "result3['original_broadcast'] = result3['file_original_size(kb)'] / result3['transmission_speed']\n",
    "result3['selection_broadcast'] = result3['file_selection_size(kb)'] / result3['transmission_speed']\n",
    "result3.drop(['index_predict','index_tail','transmission_speed'],inplace=True,axis=1)"
   ]
  },
  {
   "cell_type": "code",
   "execution_count": 146,
   "id": "69c771ff-2c4a-44e0-a4a4-a91a6544858e",
   "metadata": {},
   "outputs": [
    {
     "name": "stdout",
     "output_type": "stream",
     "text": [
      "(60, 5)\n",
      "Root Mean Squared Error: 25236.483548640143\n",
      "Mean Squared Error: 636880101.9007846\n"
     ]
    }
   ],
   "source": [
    "time_pred_train_dataset = result3['identified_arrival_time_rel(sec)'].to_list()\n",
    "catalog  = pd.read_csv('./data/lunar/training/catalogs/apollo12_catalog_GradeA_final.csv')\n",
    "catalog2  = pd.read_csv('./data/mars/training/catalogs/Mars_InSight_training_catalog_final.csv').iloc[[0]]\n",
    "catalog = catalog[catalog['filename'].isin(result3['filename'])]\n",
    "catalog = pd.concat([catalog,catalog2],axis=0)\n",
    "print(catalog.shape)\n",
    "\n",
    "time_true = catalog['time_rel(sec)'].to_list()\n",
    "rmse_result = root_mean_squared_error(time_true, time_pred_train_dataset)\n",
    "print(f\"Root Mean Squared Error: {rmse_result}\")\n",
    "mse_result = mean_squared_error(time_true, time_pred_train_dataset)\n",
    "print(f\"Mean Squared Error: {mse_result}\")"
   ]
  },
  {
   "cell_type": "code",
   "execution_count": 147,
   "id": "6421e7ec-c8be-45cd-8082-7204746d8052",
   "metadata": {},
   "outputs": [
    {
     "name": "stdout",
     "output_type": "stream",
     "text": [
      "accuracy 0.7401297174491258\n",
      "              precision    recall  f1-score   support\n",
      "\n",
      "           0       0.73      0.74      0.73  16344224\n",
      "           1       0.75      0.74      0.75  17269758\n",
      "\n",
      "    accuracy                           0.74  33613982\n",
      "   macro avg       0.74      0.74      0.74  33613982\n",
      "weighted avg       0.74      0.74      0.74  33613982\n",
      "\n"
     ]
    }
   ],
   "source": [
    "print('accuracy %s' % accuracy_score(y_train,X_train['y_pred']))\n",
    "print(classification_report(y_train, X_train['y_pred']))"
   ]
  },
  {
   "cell_type": "code",
   "execution_count": null,
   "id": "a14270e7-127c-426d-b91d-a7d2dc71718f",
   "metadata": {},
   "outputs": [],
   "source": []
  }
 ],
 "metadata": {
  "kernelspec": {
   "display_name": "Python 3.11",
   "language": "python",
   "name": "python311"
  },
  "language_info": {
   "codemirror_mode": {
    "name": "ipython",
    "version": 3
   },
   "file_extension": ".py",
   "mimetype": "text/x-python",
   "name": "python",
   "nbconvert_exporter": "python",
   "pygments_lexer": "ipython3",
   "version": "3.11.4"
  }
 },
 "nbformat": 4,
 "nbformat_minor": 5
}
